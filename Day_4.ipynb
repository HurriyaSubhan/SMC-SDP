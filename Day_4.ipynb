{
  "nbformat": 4,
  "nbformat_minor": 0,
  "metadata": {
    "colab": {
      "provenance": [],
      "gpuType": "T4"
    },
    "kernelspec": {
      "name": "python3",
      "display_name": "Python 3"
    },
    "language_info": {
      "name": "python"
    },
    "accelerator": "GPU"
  },
  "cells": [
    {
      "cell_type": "code",
      "execution_count": null,
      "metadata": {
        "id": "RFJs1UfCdAR1"
      },
      "outputs": [],
      "source": [
        "import pandas as pd"
      ]
    },
    {
      "cell_type": "code",
      "source": [
        "data=pd.read_csv(\"/content/exams.csv\")"
      ],
      "metadata": {
        "id": "Vl-TWShKeHzC"
      },
      "execution_count": null,
      "outputs": []
    },
    {
      "cell_type": "code",
      "source": [
        "data"
      ],
      "metadata": {
        "colab": {
          "base_uri": "https://localhost:8080/",
          "height": 424
        },
        "id": "M12y12_eid76",
        "outputId": "4b49c4ef-ce64-4f61-e331-a9f65630fe8e"
      },
      "execution_count": null,
      "outputs": [
        {
          "output_type": "execute_result",
          "data": {
            "text/plain": [
              "     gender race/ethnicity parental level of education         lunch  \\\n",
              "0      male        group A                 high school      standard   \n",
              "1    female        group D            some high school  free/reduced   \n",
              "2      male        group E                some college  free/reduced   \n",
              "3      male        group B                 high school      standard   \n",
              "4      male        group E          associate's degree      standard   \n",
              "..      ...            ...                         ...           ...   \n",
              "995    male        group C                 high school      standard   \n",
              "996    male        group D          associate's degree  free/reduced   \n",
              "997  female        group C            some high school  free/reduced   \n",
              "998  female        group C                some college      standard   \n",
              "999    male        group A                some college      standard   \n",
              "\n",
              "    test preparation course  math score  reading score  writing score  \n",
              "0                 completed        67.0           67.0           63.0  \n",
              "1                      none        40.0           59.0           55.0  \n",
              "2                      none        59.0           60.0           50.0  \n",
              "3                      none        77.0           78.0           68.0  \n",
              "4                 completed        78.0           73.0           68.0  \n",
              "..                      ...         ...            ...            ...  \n",
              "995                    none        73.0           70.0           65.0  \n",
              "996               completed        85.0           91.0           92.0  \n",
              "997                    none        32.0           35.0           41.0  \n",
              "998                    none        73.0           74.0           82.0  \n",
              "999               completed        65.0           60.0           62.0  \n",
              "\n",
              "[1000 rows x 8 columns]"
            ],
            "text/html": [
              "\n",
              "  <div id=\"df-27b11c5c-5e15-431e-9b4c-ba2a10cba1e0\" class=\"colab-df-container\">\n",
              "    <div>\n",
              "<style scoped>\n",
              "    .dataframe tbody tr th:only-of-type {\n",
              "        vertical-align: middle;\n",
              "    }\n",
              "\n",
              "    .dataframe tbody tr th {\n",
              "        vertical-align: top;\n",
              "    }\n",
              "\n",
              "    .dataframe thead th {\n",
              "        text-align: right;\n",
              "    }\n",
              "</style>\n",
              "<table border=\"1\" class=\"dataframe\">\n",
              "  <thead>\n",
              "    <tr style=\"text-align: right;\">\n",
              "      <th></th>\n",
              "      <th>gender</th>\n",
              "      <th>race/ethnicity</th>\n",
              "      <th>parental level of education</th>\n",
              "      <th>lunch</th>\n",
              "      <th>test preparation course</th>\n",
              "      <th>math score</th>\n",
              "      <th>reading score</th>\n",
              "      <th>writing score</th>\n",
              "    </tr>\n",
              "  </thead>\n",
              "  <tbody>\n",
              "    <tr>\n",
              "      <th>0</th>\n",
              "      <td>male</td>\n",
              "      <td>group A</td>\n",
              "      <td>high school</td>\n",
              "      <td>standard</td>\n",
              "      <td>completed</td>\n",
              "      <td>67.0</td>\n",
              "      <td>67.0</td>\n",
              "      <td>63.0</td>\n",
              "    </tr>\n",
              "    <tr>\n",
              "      <th>1</th>\n",
              "      <td>female</td>\n",
              "      <td>group D</td>\n",
              "      <td>some high school</td>\n",
              "      <td>free/reduced</td>\n",
              "      <td>none</td>\n",
              "      <td>40.0</td>\n",
              "      <td>59.0</td>\n",
              "      <td>55.0</td>\n",
              "    </tr>\n",
              "    <tr>\n",
              "      <th>2</th>\n",
              "      <td>male</td>\n",
              "      <td>group E</td>\n",
              "      <td>some college</td>\n",
              "      <td>free/reduced</td>\n",
              "      <td>none</td>\n",
              "      <td>59.0</td>\n",
              "      <td>60.0</td>\n",
              "      <td>50.0</td>\n",
              "    </tr>\n",
              "    <tr>\n",
              "      <th>3</th>\n",
              "      <td>male</td>\n",
              "      <td>group B</td>\n",
              "      <td>high school</td>\n",
              "      <td>standard</td>\n",
              "      <td>none</td>\n",
              "      <td>77.0</td>\n",
              "      <td>78.0</td>\n",
              "      <td>68.0</td>\n",
              "    </tr>\n",
              "    <tr>\n",
              "      <th>4</th>\n",
              "      <td>male</td>\n",
              "      <td>group E</td>\n",
              "      <td>associate's degree</td>\n",
              "      <td>standard</td>\n",
              "      <td>completed</td>\n",
              "      <td>78.0</td>\n",
              "      <td>73.0</td>\n",
              "      <td>68.0</td>\n",
              "    </tr>\n",
              "    <tr>\n",
              "      <th>...</th>\n",
              "      <td>...</td>\n",
              "      <td>...</td>\n",
              "      <td>...</td>\n",
              "      <td>...</td>\n",
              "      <td>...</td>\n",
              "      <td>...</td>\n",
              "      <td>...</td>\n",
              "      <td>...</td>\n",
              "    </tr>\n",
              "    <tr>\n",
              "      <th>995</th>\n",
              "      <td>male</td>\n",
              "      <td>group C</td>\n",
              "      <td>high school</td>\n",
              "      <td>standard</td>\n",
              "      <td>none</td>\n",
              "      <td>73.0</td>\n",
              "      <td>70.0</td>\n",
              "      <td>65.0</td>\n",
              "    </tr>\n",
              "    <tr>\n",
              "      <th>996</th>\n",
              "      <td>male</td>\n",
              "      <td>group D</td>\n",
              "      <td>associate's degree</td>\n",
              "      <td>free/reduced</td>\n",
              "      <td>completed</td>\n",
              "      <td>85.0</td>\n",
              "      <td>91.0</td>\n",
              "      <td>92.0</td>\n",
              "    </tr>\n",
              "    <tr>\n",
              "      <th>997</th>\n",
              "      <td>female</td>\n",
              "      <td>group C</td>\n",
              "      <td>some high school</td>\n",
              "      <td>free/reduced</td>\n",
              "      <td>none</td>\n",
              "      <td>32.0</td>\n",
              "      <td>35.0</td>\n",
              "      <td>41.0</td>\n",
              "    </tr>\n",
              "    <tr>\n",
              "      <th>998</th>\n",
              "      <td>female</td>\n",
              "      <td>group C</td>\n",
              "      <td>some college</td>\n",
              "      <td>standard</td>\n",
              "      <td>none</td>\n",
              "      <td>73.0</td>\n",
              "      <td>74.0</td>\n",
              "      <td>82.0</td>\n",
              "    </tr>\n",
              "    <tr>\n",
              "      <th>999</th>\n",
              "      <td>male</td>\n",
              "      <td>group A</td>\n",
              "      <td>some college</td>\n",
              "      <td>standard</td>\n",
              "      <td>completed</td>\n",
              "      <td>65.0</td>\n",
              "      <td>60.0</td>\n",
              "      <td>62.0</td>\n",
              "    </tr>\n",
              "  </tbody>\n",
              "</table>\n",
              "<p>1000 rows × 8 columns</p>\n",
              "</div>\n",
              "    <div class=\"colab-df-buttons\">\n",
              "\n",
              "  <div class=\"colab-df-container\">\n",
              "    <button class=\"colab-df-convert\" onclick=\"convertToInteractive('df-27b11c5c-5e15-431e-9b4c-ba2a10cba1e0')\"\n",
              "            title=\"Convert this dataframe to an interactive table.\"\n",
              "            style=\"display:none;\">\n",
              "\n",
              "  <svg xmlns=\"http://www.w3.org/2000/svg\" height=\"24px\" viewBox=\"0 -960 960 960\">\n",
              "    <path d=\"M120-120v-720h720v720H120Zm60-500h600v-160H180v160Zm220 220h160v-160H400v160Zm0 220h160v-160H400v160ZM180-400h160v-160H180v160Zm440 0h160v-160H620v160ZM180-180h160v-160H180v160Zm440 0h160v-160H620v160Z\"/>\n",
              "  </svg>\n",
              "    </button>\n",
              "\n",
              "  <style>\n",
              "    .colab-df-container {\n",
              "      display:flex;\n",
              "      gap: 12px;\n",
              "    }\n",
              "\n",
              "    .colab-df-convert {\n",
              "      background-color: #E8F0FE;\n",
              "      border: none;\n",
              "      border-radius: 50%;\n",
              "      cursor: pointer;\n",
              "      display: none;\n",
              "      fill: #1967D2;\n",
              "      height: 32px;\n",
              "      padding: 0 0 0 0;\n",
              "      width: 32px;\n",
              "    }\n",
              "\n",
              "    .colab-df-convert:hover {\n",
              "      background-color: #E2EBFA;\n",
              "      box-shadow: 0px 1px 2px rgba(60, 64, 67, 0.3), 0px 1px 3px 1px rgba(60, 64, 67, 0.15);\n",
              "      fill: #174EA6;\n",
              "    }\n",
              "\n",
              "    .colab-df-buttons div {\n",
              "      margin-bottom: 4px;\n",
              "    }\n",
              "\n",
              "    [theme=dark] .colab-df-convert {\n",
              "      background-color: #3B4455;\n",
              "      fill: #D2E3FC;\n",
              "    }\n",
              "\n",
              "    [theme=dark] .colab-df-convert:hover {\n",
              "      background-color: #434B5C;\n",
              "      box-shadow: 0px 1px 3px 1px rgba(0, 0, 0, 0.15);\n",
              "      filter: drop-shadow(0px 1px 2px rgba(0, 0, 0, 0.3));\n",
              "      fill: #FFFFFF;\n",
              "    }\n",
              "  </style>\n",
              "\n",
              "    <script>\n",
              "      const buttonEl =\n",
              "        document.querySelector('#df-27b11c5c-5e15-431e-9b4c-ba2a10cba1e0 button.colab-df-convert');\n",
              "      buttonEl.style.display =\n",
              "        google.colab.kernel.accessAllowed ? 'block' : 'none';\n",
              "\n",
              "      async function convertToInteractive(key) {\n",
              "        const element = document.querySelector('#df-27b11c5c-5e15-431e-9b4c-ba2a10cba1e0');\n",
              "        const dataTable =\n",
              "          await google.colab.kernel.invokeFunction('convertToInteractive',\n",
              "                                                    [key], {});\n",
              "        if (!dataTable) return;\n",
              "\n",
              "        const docLinkHtml = 'Like what you see? Visit the ' +\n",
              "          '<a target=\"_blank\" href=https://colab.research.google.com/notebooks/data_table.ipynb>data table notebook</a>'\n",
              "          + ' to learn more about interactive tables.';\n",
              "        element.innerHTML = '';\n",
              "        dataTable['output_type'] = 'display_data';\n",
              "        await google.colab.output.renderOutput(dataTable, element);\n",
              "        const docLink = document.createElement('div');\n",
              "        docLink.innerHTML = docLinkHtml;\n",
              "        element.appendChild(docLink);\n",
              "      }\n",
              "    </script>\n",
              "  </div>\n",
              "\n",
              "\n",
              "<div id=\"df-c8c57313-39cb-4f10-b9dc-13578b1b0e12\">\n",
              "  <button class=\"colab-df-quickchart\" onclick=\"quickchart('df-c8c57313-39cb-4f10-b9dc-13578b1b0e12')\"\n",
              "            title=\"Suggest charts\"\n",
              "            style=\"display:none;\">\n",
              "\n",
              "<svg xmlns=\"http://www.w3.org/2000/svg\" height=\"24px\"viewBox=\"0 0 24 24\"\n",
              "     width=\"24px\">\n",
              "    <g>\n",
              "        <path d=\"M19 3H5c-1.1 0-2 .9-2 2v14c0 1.1.9 2 2 2h14c1.1 0 2-.9 2-2V5c0-1.1-.9-2-2-2zM9 17H7v-7h2v7zm4 0h-2V7h2v10zm4 0h-2v-4h2v4z\"/>\n",
              "    </g>\n",
              "</svg>\n",
              "  </button>\n",
              "\n",
              "<style>\n",
              "  .colab-df-quickchart {\n",
              "      --bg-color: #E8F0FE;\n",
              "      --fill-color: #1967D2;\n",
              "      --hover-bg-color: #E2EBFA;\n",
              "      --hover-fill-color: #174EA6;\n",
              "      --disabled-fill-color: #AAA;\n",
              "      --disabled-bg-color: #DDD;\n",
              "  }\n",
              "\n",
              "  [theme=dark] .colab-df-quickchart {\n",
              "      --bg-color: #3B4455;\n",
              "      --fill-color: #D2E3FC;\n",
              "      --hover-bg-color: #434B5C;\n",
              "      --hover-fill-color: #FFFFFF;\n",
              "      --disabled-bg-color: #3B4455;\n",
              "      --disabled-fill-color: #666;\n",
              "  }\n",
              "\n",
              "  .colab-df-quickchart {\n",
              "    background-color: var(--bg-color);\n",
              "    border: none;\n",
              "    border-radius: 50%;\n",
              "    cursor: pointer;\n",
              "    display: none;\n",
              "    fill: var(--fill-color);\n",
              "    height: 32px;\n",
              "    padding: 0;\n",
              "    width: 32px;\n",
              "  }\n",
              "\n",
              "  .colab-df-quickchart:hover {\n",
              "    background-color: var(--hover-bg-color);\n",
              "    box-shadow: 0 1px 2px rgba(60, 64, 67, 0.3), 0 1px 3px 1px rgba(60, 64, 67, 0.15);\n",
              "    fill: var(--button-hover-fill-color);\n",
              "  }\n",
              "\n",
              "  .colab-df-quickchart-complete:disabled,\n",
              "  .colab-df-quickchart-complete:disabled:hover {\n",
              "    background-color: var(--disabled-bg-color);\n",
              "    fill: var(--disabled-fill-color);\n",
              "    box-shadow: none;\n",
              "  }\n",
              "\n",
              "  .colab-df-spinner {\n",
              "    border: 2px solid var(--fill-color);\n",
              "    border-color: transparent;\n",
              "    border-bottom-color: var(--fill-color);\n",
              "    animation:\n",
              "      spin 1s steps(1) infinite;\n",
              "  }\n",
              "\n",
              "  @keyframes spin {\n",
              "    0% {\n",
              "      border-color: transparent;\n",
              "      border-bottom-color: var(--fill-color);\n",
              "      border-left-color: var(--fill-color);\n",
              "    }\n",
              "    20% {\n",
              "      border-color: transparent;\n",
              "      border-left-color: var(--fill-color);\n",
              "      border-top-color: var(--fill-color);\n",
              "    }\n",
              "    30% {\n",
              "      border-color: transparent;\n",
              "      border-left-color: var(--fill-color);\n",
              "      border-top-color: var(--fill-color);\n",
              "      border-right-color: var(--fill-color);\n",
              "    }\n",
              "    40% {\n",
              "      border-color: transparent;\n",
              "      border-right-color: var(--fill-color);\n",
              "      border-top-color: var(--fill-color);\n",
              "    }\n",
              "    60% {\n",
              "      border-color: transparent;\n",
              "      border-right-color: var(--fill-color);\n",
              "    }\n",
              "    80% {\n",
              "      border-color: transparent;\n",
              "      border-right-color: var(--fill-color);\n",
              "      border-bottom-color: var(--fill-color);\n",
              "    }\n",
              "    90% {\n",
              "      border-color: transparent;\n",
              "      border-bottom-color: var(--fill-color);\n",
              "    }\n",
              "  }\n",
              "</style>\n",
              "\n",
              "  <script>\n",
              "    async function quickchart(key) {\n",
              "      const quickchartButtonEl =\n",
              "        document.querySelector('#' + key + ' button');\n",
              "      quickchartButtonEl.disabled = true;  // To prevent multiple clicks.\n",
              "      quickchartButtonEl.classList.add('colab-df-spinner');\n",
              "      try {\n",
              "        const charts = await google.colab.kernel.invokeFunction(\n",
              "            'suggestCharts', [key], {});\n",
              "      } catch (error) {\n",
              "        console.error('Error during call to suggestCharts:', error);\n",
              "      }\n",
              "      quickchartButtonEl.classList.remove('colab-df-spinner');\n",
              "      quickchartButtonEl.classList.add('colab-df-quickchart-complete');\n",
              "    }\n",
              "    (() => {\n",
              "      let quickchartButtonEl =\n",
              "        document.querySelector('#df-c8c57313-39cb-4f10-b9dc-13578b1b0e12 button');\n",
              "      quickchartButtonEl.style.display =\n",
              "        google.colab.kernel.accessAllowed ? 'block' : 'none';\n",
              "    })();\n",
              "  </script>\n",
              "</div>\n",
              "    </div>\n",
              "  </div>\n"
            ],
            "application/vnd.google.colaboratory.intrinsic+json": {
              "type": "dataframe",
              "variable_name": "data",
              "summary": "{\n  \"name\": \"data\",\n  \"rows\": 1000,\n  \"fields\": [\n    {\n      \"column\": \"gender\",\n      \"properties\": {\n        \"dtype\": \"category\",\n        \"num_unique_values\": 2,\n        \"samples\": [\n          \"female\",\n          \"male\"\n        ],\n        \"semantic_type\": \"\",\n        \"description\": \"\"\n      }\n    },\n    {\n      \"column\": \"race/ethnicity\",\n      \"properties\": {\n        \"dtype\": \"category\",\n        \"num_unique_values\": 5,\n        \"samples\": [\n          \"group D\",\n          \"group C\"\n        ],\n        \"semantic_type\": \"\",\n        \"description\": \"\"\n      }\n    },\n    {\n      \"column\": \"parental level of education\",\n      \"properties\": {\n        \"dtype\": \"category\",\n        \"num_unique_values\": 6,\n        \"samples\": [\n          \"high school\",\n          \"some high school\"\n        ],\n        \"semantic_type\": \"\",\n        \"description\": \"\"\n      }\n    },\n    {\n      \"column\": \"lunch\",\n      \"properties\": {\n        \"dtype\": \"category\",\n        \"num_unique_values\": 2,\n        \"samples\": [\n          \"free/reduced\",\n          \"standard\"\n        ],\n        \"semantic_type\": \"\",\n        \"description\": \"\"\n      }\n    },\n    {\n      \"column\": \"test preparation course\",\n      \"properties\": {\n        \"dtype\": \"category\",\n        \"num_unique_values\": 2,\n        \"samples\": [\n          \"none\",\n          \"completed\"\n        ],\n        \"semantic_type\": \"\",\n        \"description\": \"\"\n      }\n    },\n    {\n      \"column\": \"math score\",\n      \"properties\": {\n        \"dtype\": \"number\",\n        \"std\": 15.395726543709086,\n        \"min\": 13.0,\n        \"max\": 100.0,\n        \"num_unique_values\": 77,\n        \"samples\": [\n          78.0,\n          36.0\n        ],\n        \"semantic_type\": \"\",\n        \"description\": \"\"\n      }\n    },\n    {\n      \"column\": \"reading score\",\n      \"properties\": {\n        \"dtype\": \"number\",\n        \"std\": 14.702819196974701,\n        \"min\": 27.0,\n        \"max\": 100.0,\n        \"num_unique_values\": 73,\n        \"samples\": [\n          73.0,\n          50.0\n        ],\n        \"semantic_type\": \"\",\n        \"description\": \"\"\n      }\n    },\n    {\n      \"column\": \"writing score\",\n      \"properties\": {\n        \"dtype\": \"number\",\n        \"std\": 15.607340839684449,\n        \"min\": 23.0,\n        \"max\": 100.0,\n        \"num_unique_values\": 76,\n        \"samples\": [\n          76.0,\n          62.0\n        ],\n        \"semantic_type\": \"\",\n        \"description\": \"\"\n      }\n    }\n  ]\n}"
            }
          },
          "metadata": {},
          "execution_count": 3
        }
      ]
    },
    {
      "cell_type": "code",
      "source": [
        "from sklearn.preprocessing import LabelEncoder\n",
        "\n",
        "le=LabelEncoder()"
      ],
      "metadata": {
        "id": "D-3PayyEljU1"
      },
      "execution_count": null,
      "outputs": []
    },
    {
      "cell_type": "code",
      "source": [
        "data['gender']=le.fit_transform(data['gender'])\n",
        "data['parental level of education']=le.fit_transform(data['parental level of education'])\n",
        "data['lunch']=le.fit_transform(data['lunch'])\n",
        "data['test preparation course']=le.fit_transform(data['test preparation course'])\n",
        "data['race/ethnicity']=le.fit_transform(data['race/ethnicity'])"
      ],
      "metadata": {
        "id": "dfoMDmJ1l04g"
      },
      "execution_count": null,
      "outputs": []
    },
    {
      "cell_type": "code",
      "source": [
        "data.dtypes"
      ],
      "metadata": {
        "colab": {
          "base_uri": "https://localhost:8080/"
        },
        "id": "BNKCYQ24oTjy",
        "outputId": "cf3bf68a-9b44-411a-828d-9d076205352e"
      },
      "execution_count": null,
      "outputs": [
        {
          "output_type": "execute_result",
          "data": {
            "text/plain": [
              "gender                           int64\n",
              "race/ethnicity                   int64\n",
              "parental level of education      int64\n",
              "lunch                            int64\n",
              "test preparation course          int64\n",
              "math score                     float64\n",
              "reading score                  float64\n",
              "writing score                  float64\n",
              "dtype: object"
            ]
          },
          "metadata": {},
          "execution_count": 6
        }
      ]
    },
    {
      "cell_type": "markdown",
      "source": [
        "## DECISION TREE CLASSIFIER"
      ],
      "metadata": {
        "id": "8_3n-fYRnw3z"
      }
    },
    {
      "cell_type": "code",
      "source": [
        "data.isna().sum()"
      ],
      "metadata": {
        "colab": {
          "base_uri": "https://localhost:8080/"
        },
        "id": "td9m55g2d4p5",
        "outputId": "74e11251-b9cb-44a5-95f2-e53a67952ce6"
      },
      "execution_count": null,
      "outputs": [
        {
          "output_type": "execute_result",
          "data": {
            "text/plain": [
              "gender                         0\n",
              "race/ethnicity                 0\n",
              "parental level of education    0\n",
              "lunch                          0\n",
              "test preparation course        0\n",
              "math score                     0\n",
              "reading score                  0\n",
              "writing score                  0\n",
              "dtype: int64"
            ]
          },
          "metadata": {},
          "execution_count": 18
        }
      ]
    },
    {
      "cell_type": "code",
      "source": [
        "data[\"reading score\"].mean()"
      ],
      "metadata": {
        "colab": {
          "base_uri": "https://localhost:8080/"
        },
        "id": "LEKk59And4RK",
        "outputId": "88fed664-680f-4e4c-ebed-23c92a35f909"
      },
      "execution_count": null,
      "outputs": [
        {
          "output_type": "execute_result",
          "data": {
            "text/plain": [
              "69.04828973843058"
            ]
          },
          "metadata": {},
          "execution_count": 8
        }
      ]
    },
    {
      "cell_type": "code",
      "source": [
        "data[\"reading score\"].fillna(\"69.0482\",inplace=True)"
      ],
      "metadata": {
        "id": "GXFsv9N9mMHp"
      },
      "execution_count": null,
      "outputs": []
    },
    {
      "cell_type": "code",
      "source": [
        "data[\"math score\"].mean()"
      ],
      "metadata": {
        "colab": {
          "base_uri": "https://localhost:8080/"
        },
        "id": "w19TxVOimX5Z",
        "outputId": "699fa05f-ea0a-4534-a364-4b56eeb9a7f0"
      },
      "execution_count": null,
      "outputs": [
        {
          "output_type": "execute_result",
          "data": {
            "text/plain": [
              "66.38076152304609"
            ]
          },
          "metadata": {},
          "execution_count": 10
        }
      ]
    },
    {
      "cell_type": "code",
      "source": [
        "data[\"math score\"].fillna(\"66.3807\",inplace=True)"
      ],
      "metadata": {
        "id": "ZFEkFgHmnST4"
      },
      "execution_count": null,
      "outputs": []
    },
    {
      "cell_type": "code",
      "source": [
        "data[\"writing score\"].mean()"
      ],
      "metadata": {
        "colab": {
          "base_uri": "https://localhost:8080/"
        },
        "id": "yFHkqcFhnh4I",
        "outputId": "ea0ac481-cae4-4ab8-b68f-ec4b2a9cda01"
      },
      "execution_count": null,
      "outputs": [
        {
          "output_type": "execute_result",
          "data": {
            "text/plain": [
              "67.74474474474475"
            ]
          },
          "metadata": {},
          "execution_count": 12
        }
      ]
    },
    {
      "cell_type": "code",
      "source": [
        "data[\"writing score\"].fillna(\"67.7447\",inplace=True)"
      ],
      "metadata": {
        "id": "Rd_lzn3cnyq3"
      },
      "execution_count": null,
      "outputs": []
    },
    {
      "cell_type": "code",
      "source": [
        "data[\"gender\"].mode()"
      ],
      "metadata": {
        "colab": {
          "base_uri": "https://localhost:8080/"
        },
        "id": "f6NEvUH8cd_x",
        "outputId": "34ee370e-84c5-4d12-ab7f-329b2652fdbc"
      },
      "execution_count": null,
      "outputs": [
        {
          "output_type": "execute_result",
          "data": {
            "text/plain": [
              "0    1\n",
              "Name: gender, dtype: int64"
            ]
          },
          "metadata": {},
          "execution_count": 15
        }
      ]
    },
    {
      "cell_type": "code",
      "source": [
        "data[\"gender\"].fillna(\"male\",inplace=True)"
      ],
      "metadata": {
        "id": "p2_Gr6ANclwu"
      },
      "execution_count": null,
      "outputs": []
    },
    {
      "cell_type": "code",
      "source": [
        "from sklearn.linear_model import LinearRegression\n",
        "from sklearn.model_selection import train_test_split\n",
        "# Sample dataset (features and target variable)\n",
        "# Replace X and y with your dataset\n",
        "X = data.drop(columns=['writing score'])\n",
        "y = data['writing score']\n",
        "\n",
        "# Splitting the dataset into training and testing sets\n",
        "X_train, X_test, y_train, y_test = train_test_split(X, y, test_size=0.2, random_state=42)\n",
        "\n",
        "# Creating a Linear Regression model\n",
        "model = LinearRegression()\n",
        "\n",
        "# Training the model\n",
        "model.fit(X_train, y_train)\n",
        "\n",
        "# Making predictions\n",
        "y_pred = model.predict(X_test)"
      ],
      "metadata": {
        "id": "BktmYI67nu1P"
      },
      "execution_count": null,
      "outputs": []
    },
    {
      "cell_type": "code",
      "source": [
        "y_test"
      ],
      "metadata": {
        "id": "VbqI-cw-7rNJ",
        "colab": {
          "base_uri": "https://localhost:8080/"
        },
        "outputId": "b09dda1d-62c4-4284-cb1e-acbf7144e515"
      },
      "execution_count": null,
      "outputs": [
        {
          "output_type": "execute_result",
          "data": {
            "text/plain": [
              "521    82.0\n",
              "737    81.0\n",
              "740    51.0\n",
              "660    97.0\n",
              "411    72.0\n",
              "       ... \n",
              "408    43.0\n",
              "332    43.0\n",
              "208    84.0\n",
              "613    82.0\n",
              "78     76.0\n",
              "Name: writing score, Length: 200, dtype: float64"
            ]
          },
          "metadata": {},
          "execution_count": 22
        }
      ]
    },
    {
      "cell_type": "code",
      "source": [
        "y_pred"
      ],
      "metadata": {
        "id": "I3wK7PzTEWdj",
        "colab": {
          "base_uri": "https://localhost:8080/"
        },
        "outputId": "71cb4d79-0f6c-4d05-df82-05b0d62e986e"
      },
      "execution_count": null,
      "outputs": [
        {
          "output_type": "execute_result",
          "data": {
            "text/plain": [
              "array([ 83.03822251,  78.35787041,  48.62520971,  93.95081595,\n",
              "        71.94474251,  70.59925592, 101.54447436,  81.53386637,\n",
              "        86.13934146,  77.54645562,  57.42961316,  59.77733982,\n",
              "        53.86960392,  69.24410638,  32.30830241,  30.52622502,\n",
              "        77.20843518,  76.46159425,  75.33462092,  79.62379004,\n",
              "        55.39040758,  75.58990093,  74.29440209,  95.44939007,\n",
              "        71.31349692,  93.01040102,  76.23729003,  76.82414674,\n",
              "        70.63032317,  64.57125538,  79.86278421,  68.60509557,\n",
              "        45.47843874,  84.99540637,  74.49185833,  65.53291993,\n",
              "        71.75804395,  84.16790641,  68.46120616,  46.29419253,\n",
              "        58.32607602, 103.5756825 ,  44.70262647,  60.04094943,\n",
              "        40.92594408,  77.4538467 ,  66.17485975,  71.95321384,\n",
              "        61.79328592,  68.94379409,  60.3030414 ,  48.40748645,\n",
              "        46.18514795,  71.86932107,  52.47701039,  76.37236434,\n",
              "        65.49739701,  86.59289596,  68.03270392,  80.80446228,\n",
              "        43.10181096,  52.58297104,  86.22260701,  64.52424957,\n",
              "        96.75013458,  89.67633251,  95.27433445,  59.62665971,\n",
              "        70.34951801,  60.55216408,  39.85640049,  76.37182798,\n",
              "        74.10544653,  69.63480386,  66.22053222,  64.48120721,\n",
              "       101.51534003,  81.94774212,  66.98589153,  58.70905937,\n",
              "        61.2066705 ,  59.27337529,  81.70785817,  47.08931318,\n",
              "        79.51750472,  45.2132841 ,  74.63299656,  75.71732156,\n",
              "        55.48707864,  68.58124969,  80.36849872,  54.83322965,\n",
              "        71.42671527,  60.05585106,  84.72508434,  67.5227524 ,\n",
              "        72.7520037 ,  54.7728796 ,  79.96099222,  96.83999232,\n",
              "        89.13503613,  51.19042778,  46.42001726,  74.23372819,\n",
              "        82.97874157,  47.2399446 ,  74.11335191,  85.15495379,\n",
              "        89.53344429,  67.38614115,  56.72858643,  63.05183593,\n",
              "        69.72607456, 102.39383859,  61.3822692 ,  71.28223924,\n",
              "        87.41022487,  46.65258088,  76.62853196,  60.16743074,\n",
              "        41.3405383 ,  82.46754759,  59.37835469,  68.65772258,\n",
              "        92.18978323,  46.17875936,  75.2344017 ,  70.10959345,\n",
              "        78.03304224,  82.01637091,  87.6455184 ,  70.88383108,\n",
              "        66.94341513,  66.75391513,  67.39931431,  63.99942946,\n",
              "        71.74257636,  57.53304753,  42.4983946 ,  65.07527076,\n",
              "        86.94560206,  65.55117502,  93.46215467,  99.45271195,\n",
              "        43.76225351,  62.43430794,  51.82306993,  30.81232478,\n",
              "        79.77268518,  79.93859968,  65.05201128,  91.77481542,\n",
              "        58.95736357,  79.75159856,  75.70932471,  44.30450021,\n",
              "        79.34419101,  76.25833605,  63.69917611,  75.19842581,\n",
              "        53.16209663,  80.6913437 ,  40.67595229,  74.00098223,\n",
              "        72.33896881,  52.09372471,  57.22623474,  25.45352869,\n",
              "        65.21787709,  69.54524928,  45.68258673,  44.58218084,\n",
              "        89.78993658,  62.48800685,  63.97463167,  80.32342448,\n",
              "        59.09143533,  89.47215492,  91.05412688,  72.81851049,\n",
              "        58.96474149,  41.58835588,  47.66167546,  77.89944496,\n",
              "        61.1484933 ,  66.63168932,  55.08706223,  65.00621775,\n",
              "        84.52113997,  63.55402221,  48.79912241,  34.21183545,\n",
              "        66.76170837,  62.29132825,  60.31314924,  46.1558232 ,\n",
              "        50.53688193,  83.84412968,  78.0499064 ,  70.62883514])"
            ]
          },
          "metadata": {},
          "execution_count": 24
        }
      ]
    },
    {
      "cell_type": "code",
      "source": [
        "from sklearn.metrics import mean_squared_error\n",
        "# Calculation of Mean Squared Error (MSE)\n",
        "mean_squared_error(y_test,y_pred)"
      ],
      "metadata": {
        "colab": {
          "base_uri": "https://localhost:8080/"
        },
        "id": "346-zca81XAt",
        "outputId": "407e00ab-b5ab-41d3-8695-2e9ea898f235"
      },
      "execution_count": null,
      "outputs": [
        {
          "output_type": "execute_result",
          "data": {
            "text/plain": [
              "15.202327060147223"
            ]
          },
          "metadata": {},
          "execution_count": 25
        }
      ]
    },
    {
      "cell_type": "code",
      "source": [
        "from sklearn.metrics import r2_score\n",
        "\n",
        "# Calculate R-squared\n",
        "r2_score_value = r2_score(y_test, y_pred)\n",
        "\n",
        "# Print the R-squared value\n",
        "print(\"R-squared:\", r2_score_value)\n"
      ],
      "metadata": {
        "colab": {
          "base_uri": "https://localhost:8080/"
        },
        "id": "TUPZf7w618tT",
        "outputId": "ba596d16-ec57-42bf-df60-b8ce89674c32"
      },
      "execution_count": null,
      "outputs": [
        {
          "output_type": "stream",
          "name": "stdout",
          "text": [
            "R-squared: 0.9424654438237008\n"
          ]
        }
      ]
    },
    {
      "cell_type": "code",
      "source": [],
      "metadata": {
        "id": "g3jJPWps9I1l"
      },
      "execution_count": null,
      "outputs": []
    }
  ]
}